{
 "cells": [
  {
   "cell_type": "code",
   "execution_count": 1,
   "id": "2e0cbba9-b9c8-46d7-b53f-3aecb49e3339",
   "metadata": {},
   "outputs": [],
   "source": [
    "d={}"
   ]
  },
  {
   "cell_type": "code",
   "execution_count": 2,
   "id": "4b20fa32-78d8-4344-bdef-d30669b5ce77",
   "metadata": {},
   "outputs": [
    {
     "data": {
      "text/plain": [
       "dict"
      ]
     },
     "execution_count": 2,
     "metadata": {},
     "output_type": "execute_result"
    }
   ],
   "source": [
    "type(d)"
   ]
  },
  {
   "cell_type": "code",
   "execution_count": 3,
   "id": "766644e8-4fc8-43f1-9a38-7f5f6f263e8d",
   "metadata": {},
   "outputs": [],
   "source": [
    "d1={'key':\"sudh\"}"
   ]
  },
  {
   "cell_type": "code",
   "execution_count": 4,
   "id": "0f8762c9-b082-4ebc-a0aa-540b9e04121d",
   "metadata": {},
   "outputs": [
    {
     "data": {
      "text/plain": [
       "{'key': 'sudh'}"
      ]
     },
     "execution_count": 4,
     "metadata": {},
     "output_type": "execute_result"
    }
   ],
   "source": [
    "d1"
   ]
  },
  {
   "cell_type": "code",
   "execution_count": 5,
   "id": "46a7e3a2-8aa5-4bf6-aed2-1073c004ed90",
   "metadata": {},
   "outputs": [],
   "source": [
    "d2={'name':\"ankit\",\"email\": \"ankit@gmail.com\" ,\"number\":3414}"
   ]
  },
  {
   "cell_type": "code",
   "execution_count": 6,
   "id": "cea6e9d2-9aee-4668-8d42-8444f0497339",
   "metadata": {},
   "outputs": [
    {
     "data": {
      "text/plain": [
       "{'name': 'ankit', 'email': 'ankit@gmail.com', 'number': 3414}"
      ]
     },
     "execution_count": 6,
     "metadata": {},
     "output_type": "execute_result"
    }
   ],
   "source": [
    "d2"
   ]
  },
  {
   "cell_type": "code",
   "execution_count": 7,
   "id": "39140a1b-d367-45b7-9e77-151cc8e2584f",
   "metadata": {},
   "outputs": [
    {
     "ename": "SyntaxError",
     "evalue": "invalid syntax (744824681.py, line 1)",
     "output_type": "error",
     "traceback": [
      "\u001b[0;36m  Cell \u001b[0;32mIn[7], line 1\u001b[0;36m\u001b[0m\n\u001b[0;31m    d3={2332:\"sudh\",@:\"kumar\"}\u001b[0m\n\u001b[0m                    ^\u001b[0m\n\u001b[0;31mSyntaxError\u001b[0m\u001b[0;31m:\u001b[0m invalid syntax\n"
     ]
    }
   ],
   "source": [
    "d3={2332:\"sudh\",@:\"kumar\"}"
   ]
  },
  {
   "cell_type": "code",
   "execution_count": 8,
   "id": "ba5b9453-b862-436a-8c1a-5b19b1112670",
   "metadata": {},
   "outputs": [],
   "source": [
    "d3={234:\"sudh\",'_wer':'kumar',True:24234}"
   ]
  },
  {
   "cell_type": "code",
   "execution_count": 9,
   "id": "5a232f10-edc9-4d8d-9996-2e01a385de6e",
   "metadata": {},
   "outputs": [
    {
     "data": {
      "text/plain": [
       "{234: 'sudh', '_wer': 'kumar', True: 24234}"
      ]
     },
     "execution_count": 9,
     "metadata": {},
     "output_type": "execute_result"
    }
   ],
   "source": [
    "d3"
   ]
  },
  {
   "cell_type": "code",
   "execution_count": 10,
   "id": "547aceb6-f046-48e1-b508-869a81663dc9",
   "metadata": {},
   "outputs": [
    {
     "data": {
      "text/plain": [
       "'sudh'"
      ]
     },
     "execution_count": 10,
     "metadata": {},
     "output_type": "execute_result"
    }
   ],
   "source": [
    "d3[234]"
   ]
  },
  {
   "cell_type": "code",
   "execution_count": 11,
   "id": "7f7bb8cb-39bd-42d1-864b-c12a51fce83f",
   "metadata": {},
   "outputs": [
    {
     "data": {
      "text/plain": [
       "24234"
      ]
     },
     "execution_count": 11,
     "metadata": {},
     "output_type": "execute_result"
    }
   ],
   "source": [
    "d3[True]"
   ]
  },
  {
   "cell_type": "code",
   "execution_count": 12,
   "id": "bb114917-bc61-4e54-8e6b-f967eb0855de",
   "metadata": {},
   "outputs": [
    {
     "data": {
      "text/plain": [
       "24234"
      ]
     },
     "execution_count": 12,
     "metadata": {},
     "output_type": "execute_result"
    }
   ],
   "source": [
    "d3[1]"
   ]
  },
  {
   "cell_type": "code",
   "execution_count": 13,
   "id": "3e244ca1-5730-46ee-80da-98a963ebb3ff",
   "metadata": {},
   "outputs": [
    {
     "ename": "KeyError",
     "evalue": "2",
     "output_type": "error",
     "traceback": [
      "\u001b[0;31m---------------------------------------------------------------------------\u001b[0m",
      "\u001b[0;31mKeyError\u001b[0m                                  Traceback (most recent call last)",
      "Cell \u001b[0;32mIn[13], line 1\u001b[0m\n\u001b[0;32m----> 1\u001b[0m \u001b[43md3\u001b[49m\u001b[43m[\u001b[49m\u001b[38;5;241;43m2\u001b[39;49m\u001b[43m]\u001b[49m\n",
      "\u001b[0;31mKeyError\u001b[0m: 2"
     ]
    }
   ],
   "source": [
    "d3[2]"
   ]
  },
  {
   "cell_type": "code",
   "execution_count": 14,
   "id": "81af395a-5545-454c-aee5-f8e955435743",
   "metadata": {},
   "outputs": [
    {
     "ename": "KeyError",
     "evalue": "3",
     "output_type": "error",
     "traceback": [
      "\u001b[0;31m---------------------------------------------------------------------------\u001b[0m",
      "\u001b[0;31mKeyError\u001b[0m                                  Traceback (most recent call last)",
      "Cell \u001b[0;32mIn[14], line 1\u001b[0m\n\u001b[0;32m----> 1\u001b[0m \u001b[43md3\u001b[49m\u001b[43m[\u001b[49m\u001b[38;5;241;43m3\u001b[39;49m\u001b[43m]\u001b[49m\n",
      "\u001b[0;31mKeyError\u001b[0m: 3"
     ]
    }
   ],
   "source": [
    "d3[3]"
   ]
  },
  {
   "cell_type": "code",
   "execution_count": 16,
   "id": "78dabfec-aace-4988-95d0-391c7efdbdea",
   "metadata": {},
   "outputs": [],
   "source": [
    "d4={'name':\"ankit\",'email':\"ankit@23\",'name':\"ankityadav\"}"
   ]
  },
  {
   "cell_type": "code",
   "execution_count": 17,
   "id": "fc336a95-5482-409d-98b6-6e5cf40e6d55",
   "metadata": {},
   "outputs": [
    {
     "data": {
      "text/plain": [
       "{'name': 'ankityadav', 'email': 'ankit@23'}"
      ]
     },
     "execution_count": 17,
     "metadata": {},
     "output_type": "execute_result"
    }
   ],
   "source": [
    "d4"
   ]
  },
  {
   "cell_type": "code",
   "execution_count": 19,
   "id": "fdb03973-adb3-4d95-9f90-c7e868662515",
   "metadata": {},
   "outputs": [
    {
     "data": {
      "text/plain": [
       "'ankityadav'"
      ]
     },
     "execution_count": 19,
     "metadata": {},
     "output_type": "execute_result"
    }
   ],
   "source": [
    "d4['name']"
   ]
  },
  {
   "cell_type": "code",
   "execution_count": 23,
   "id": "b4fd0069-84ec-4e2e-a4ab-882ee2c343b5",
   "metadata": {},
   "outputs": [],
   "source": [
    "d5={\"company\" :\"pwskills\", \"courses\": [\"web devlopment\",\"data sci\",\"java with dsa system design\"]}"
   ]
  },
  {
   "cell_type": "code",
   "execution_count": null,
   "id": "2d5d0260-7aed-4856-b257-d71a35ce91d3",
   "metadata": {},
   "outputs": [],
   "source": []
  },
  {
   "cell_type": "code",
   "execution_count": 24,
   "id": "79a03639-ace8-403c-82b9-0f419c81f696",
   "metadata": {},
   "outputs": [
    {
     "data": {
      "text/plain": [
       "{'company': 'pwskills',\n",
       " 'courses': ['web devlopment', 'data sci', 'java with dsa system design']}"
      ]
     },
     "execution_count": 24,
     "metadata": {},
     "output_type": "execute_result"
    }
   ],
   "source": [
    "d5"
   ]
  },
  {
   "cell_type": "code",
   "execution_count": 25,
   "id": "019c4cc4-f16d-4ce8-80f6-07a7a28ada54",
   "metadata": {},
   "outputs": [
    {
     "data": {
      "text/plain": [
       "['web devlopment', 'data sci', 'java with dsa system design']"
      ]
     },
     "execution_count": 25,
     "metadata": {},
     "output_type": "execute_result"
    }
   ],
   "source": [
    "d5['courses']"
   ]
  },
  {
   "cell_type": "code",
   "execution_count": 26,
   "id": "c180116d-e90e-4dc0-9b19-7105a3b6cf3d",
   "metadata": {},
   "outputs": [
    {
     "data": {
      "text/plain": [
       "'java with dsa system design'"
      ]
     },
     "execution_count": 26,
     "metadata": {},
     "output_type": "execute_result"
    }
   ],
   "source": [
    "d5['courses'][2]"
   ]
  },
  {
   "cell_type": "code",
   "execution_count": 27,
   "id": "21b364d3-eeb5-4906-8ada-143cb998e779",
   "metadata": {},
   "outputs": [
    {
     "data": {
      "text/plain": [
       "'web devlopment'"
      ]
     },
     "execution_count": 27,
     "metadata": {},
     "output_type": "execute_result"
    }
   ],
   "source": [
    "d5['courses'][0]"
   ]
  },
  {
   "cell_type": "code",
   "execution_count": 28,
   "id": "7b7bd179-66cb-4907-8566-8c58d9215a56",
   "metadata": {},
   "outputs": [
    {
     "data": {
      "text/plain": [
       "'data sci'"
      ]
     },
     "execution_count": 28,
     "metadata": {},
     "output_type": "execute_result"
    }
   ],
   "source": [
    "d5['courses'][1]"
   ]
  },
  {
   "cell_type": "code",
   "execution_count": 37,
   "id": "bbafdcb8-3a6e-49f2-a9e8-6443dd8f9baf",
   "metadata": {},
   "outputs": [],
   "source": [
    "d6={ \"numbers\":[2,34,3,34],   \"assignment\":(1,2,3,4,5,6),   \"lunch_date\": {28,12,14}, \"class_time\": { \"web_dev\": 8, \"data_sci\" : 12, \"java with dsa and design\":\"7\"}}"
   ]
  },
  {
   "cell_type": "code",
   "execution_count": 38,
   "id": "cc829762-645b-4ef9-8b68-b55cb2074d3d",
   "metadata": {},
   "outputs": [
    {
     "data": {
      "text/plain": [
       "{'numbers': [2, 34, 3, 34],\n",
       " 'assignment': (1, 2, 3, 4, 5, 6),\n",
       " 'lunch_date': {12, 14, 28},\n",
       " 'class_time': {'web_dev': 8, 'data_sci': 12, 'java with dsa and design': '7'}}"
      ]
     },
     "execution_count": 38,
     "metadata": {},
     "output_type": "execute_result"
    }
   ],
   "source": [
    "d6"
   ]
  },
  {
   "cell_type": "code",
   "execution_count": 40,
   "id": "ab7ec0df-f61a-4186-acdb-e49675cd32e7",
   "metadata": {},
   "outputs": [
    {
     "data": {
      "text/plain": [
       "{'web_dev': 8, 'data_sci': 12, 'java with dsa and design': '7'}"
      ]
     },
     "execution_count": 40,
     "metadata": {},
     "output_type": "execute_result"
    }
   ],
   "source": [
    "d6['class_time']"
   ]
  },
  {
   "cell_type": "code",
   "execution_count": 41,
   "id": "69c30f01-728b-4754-9014-975bd7fca9c6",
   "metadata": {},
   "outputs": [
    {
     "data": {
      "text/plain": [
       "'7'"
      ]
     },
     "execution_count": 41,
     "metadata": {},
     "output_type": "execute_result"
    }
   ],
   "source": [
    "d6['class_time']['java with dsa and design']"
   ]
  },
  {
   "cell_type": "code",
   "execution_count": 43,
   "id": "f831e05b-d312-4d6a-9893-3588da20f004",
   "metadata": {},
   "outputs": [],
   "source": [
    "d6['mentor']= [\"sudhnsu\", \"hyder\",  \"krish\"]"
   ]
  },
  {
   "cell_type": "code",
   "execution_count": 44,
   "id": "f1ee3768-722f-42c4-966c-1d2229a8c7d8",
   "metadata": {},
   "outputs": [
    {
     "data": {
      "text/plain": [
       "{'numbers': [2, 34, 3, 34],\n",
       " 'assignment': (1, 2, 3, 4, 5, 6),\n",
       " 'lunch_date': {12, 14, 28},\n",
       " 'class_time': {'web_dev': 8, 'data_sci': 12, 'java with dsa and design': '7'},\n",
       " 'mentor': ['sudhnsu', 'hyder', 'krish']}"
      ]
     },
     "execution_count": 44,
     "metadata": {},
     "output_type": "execute_result"
    }
   ],
   "source": [
    "d6"
   ]
  },
  {
   "cell_type": "code",
   "execution_count": 46,
   "id": "8340a88f-4747-4622-aaf2-691e99d23bcf",
   "metadata": {},
   "outputs": [],
   "source": [
    "del d6['numbers']"
   ]
  },
  {
   "cell_type": "code",
   "execution_count": 47,
   "id": "21b51428-1255-4a87-98d7-13024a2ebd88",
   "metadata": {},
   "outputs": [
    {
     "data": {
      "text/plain": [
       "{'assignment': (1, 2, 3, 4, 5, 6),\n",
       " 'lunch_date': {12, 14, 28},\n",
       " 'class_time': {'web_dev': 8, 'data_sci': 12, 'java with dsa and design': '7'},\n",
       " 'mentor': ['sudhnsu', 'hyder', 'krish']}"
      ]
     },
     "execution_count": 47,
     "metadata": {},
     "output_type": "execute_result"
    }
   ],
   "source": [
    "d6"
   ]
  },
  {
   "cell_type": "code",
   "execution_count": 48,
   "id": "1cafeca1-23f9-4830-98b3-d6785ba89f9c",
   "metadata": {},
   "outputs": [
    {
     "data": {
      "text/plain": [
       "dict_keys(['assignment', 'lunch_date', 'class_time', 'mentor'])"
      ]
     },
     "execution_count": 48,
     "metadata": {},
     "output_type": "execute_result"
    }
   ],
   "source": [
    "d6.keys()"
   ]
  },
  {
   "cell_type": "code",
   "execution_count": 50,
   "id": "c136d8f6-b722-414c-83da-fbdb83bfff3c",
   "metadata": {},
   "outputs": [
    {
     "data": {
      "text/plain": [
       "['assignment', 'lunch_date', 'class_time', 'mentor']"
      ]
     },
     "execution_count": 50,
     "metadata": {},
     "output_type": "execute_result"
    }
   ],
   "source": [
    "list(d6.keys())"
   ]
  },
  {
   "cell_type": "code",
   "execution_count": 51,
   "id": "e0ad8aea-523b-4cc2-88e7-93af31394774",
   "metadata": {},
   "outputs": [
    {
     "data": {
      "text/plain": [
       "dict_values([(1, 2, 3, 4, 5, 6), {28, 12, 14}, {'web_dev': 8, 'data_sci': 12, 'java with dsa and design': '7'}, ['sudhnsu', 'hyder', 'krish']])"
      ]
     },
     "execution_count": 51,
     "metadata": {},
     "output_type": "execute_result"
    }
   ],
   "source": [
    "d6.values()"
   ]
  },
  {
   "cell_type": "code",
   "execution_count": 52,
   "id": "a26da32d-8f1e-4f0a-88bd-6364c99ad468",
   "metadata": {},
   "outputs": [
    {
     "data": {
      "text/plain": [
       "[(1, 2, 3, 4, 5, 6),\n",
       " {12, 14, 28},\n",
       " {'web_dev': 8, 'data_sci': 12, 'java with dsa and design': '7'},\n",
       " ['sudhnsu', 'hyder', 'krish']]"
      ]
     },
     "execution_count": 52,
     "metadata": {},
     "output_type": "execute_result"
    }
   ],
   "source": [
    "list(d6.values())"
   ]
  },
  {
   "cell_type": "code",
   "execution_count": 53,
   "id": "c277285b-7eec-41a9-b28f-d970c690c088",
   "metadata": {},
   "outputs": [
    {
     "data": {
      "text/plain": [
       "dict_items([('assignment', (1, 2, 3, 4, 5, 6)), ('lunch_date', {28, 12, 14}), ('class_time', {'web_dev': 8, 'data_sci': 12, 'java with dsa and design': '7'}), ('mentor', ['sudhnsu', 'hyder', 'krish'])])"
      ]
     },
     "execution_count": 53,
     "metadata": {},
     "output_type": "execute_result"
    }
   ],
   "source": [
    "d6.items()"
   ]
  },
  {
   "cell_type": "code",
   "execution_count": 54,
   "id": "ae85cbc9-620e-45df-ac89-6f41b215c662",
   "metadata": {},
   "outputs": [
    {
     "data": {
      "text/plain": [
       "[('assignment', (1, 2, 3, 4, 5, 6)),\n",
       " ('lunch_date', {12, 14, 28}),\n",
       " ('class_time',\n",
       "  {'web_dev': 8, 'data_sci': 12, 'java with dsa and design': '7'}),\n",
       " ('mentor', ['sudhnsu', 'hyder', 'krish'])]"
      ]
     },
     "execution_count": 54,
     "metadata": {},
     "output_type": "execute_result"
    }
   ],
   "source": [
    "list(d6.items())"
   ]
  },
  {
   "cell_type": "code",
   "execution_count": 55,
   "id": "37a5ae71-6599-45f8-8f71-ab47163f26d9",
   "metadata": {},
   "outputs": [
    {
     "data": {
      "text/plain": [
       "(1, 2, 3, 4, 5, 6)"
      ]
     },
     "execution_count": 55,
     "metadata": {},
     "output_type": "execute_result"
    }
   ],
   "source": [
    "d6.pop('assignment')"
   ]
  },
  {
   "cell_type": "code",
   "execution_count": 56,
   "id": "cb3833b4-857a-42ef-b6c6-d2dabfa0d7c7",
   "metadata": {},
   "outputs": [
    {
     "data": {
      "text/plain": [
       "{'lunch_date': {12, 14, 28},\n",
       " 'class_time': {'web_dev': 8, 'data_sci': 12, 'java with dsa and design': '7'},\n",
       " 'mentor': ['sudhnsu', 'hyder', 'krish']}"
      ]
     },
     "execution_count": 56,
     "metadata": {},
     "output_type": "execute_result"
    }
   ],
   "source": [
    "d6"
   ]
  },
  {
   "cell_type": "code",
   "execution_count": 57,
   "id": "65689581-1d30-4cca-8981-13e48f8231ab",
   "metadata": {},
   "outputs": [
    {
     "ename": "TypeError",
     "evalue": "pop expected at least 1 argument, got 0",
     "output_type": "error",
     "traceback": [
      "\u001b[0;31m---------------------------------------------------------------------------\u001b[0m",
      "\u001b[0;31mTypeError\u001b[0m                                 Traceback (most recent call last)",
      "Cell \u001b[0;32mIn[57], line 1\u001b[0m\n\u001b[0;32m----> 1\u001b[0m \u001b[43md6\u001b[49m\u001b[38;5;241;43m.\u001b[39;49m\u001b[43mpop\u001b[49m\u001b[43m(\u001b[49m\u001b[43m)\u001b[49m\n",
      "\u001b[0;31mTypeError\u001b[0m: pop expected at least 1 argument, got 0"
     ]
    }
   ],
   "source": [
    "d6.pop()"
   ]
  },
  {
   "cell_type": "code",
   "execution_count": 70,
   "id": "9c367aa4-08dd-4cac-809b-6249c4162e34",
   "metadata": {},
   "outputs": [
    {
     "name": "stdout",
     "output_type": "stream",
     "text": [
      "you will be a part of A0 batch\n"
     ]
    }
   ],
   "source": [
    "marks =89\n",
    "if marks >=80:\n",
    "    print(\"you will be a part of A0 batch\")\n",
    "elif marks >=60 and marks<80:\n",
    "    print(\"you will be part of A1 batch\")\n",
    "elif marks >=40 and marks <60:\n",
    "    print(\"you will br the part of A2 batch\")\n",
    "    \n",
    "else :\n",
    "    print(\"you will be the part of A3 batch\")\n",
    "    "
   ]
  },
  {
   "cell_type": "code",
   "execution_count": 71,
   "id": "98931f71-e15d-4396-9e3e-52cf3d395a05",
   "metadata": {},
   "outputs": [
    {
     "data": {
      "text/plain": [
       "False"
      ]
     },
     "execution_count": 71,
     "metadata": {},
     "output_type": "execute_result"
    }
   ],
   "source": [
    "10>=80"
   ]
  },
  {
   "cell_type": "code",
   "execution_count": 72,
   "id": "bc8ea315-c4f4-4c28-be8f-2d3380034e98",
   "metadata": {},
   "outputs": [
    {
     "data": {
      "text/plain": [
       "True"
      ]
     },
     "execution_count": 72,
     "metadata": {},
     "output_type": "execute_result"
    }
   ],
   "source": [
    "10<80"
   ]
  },
  {
   "cell_type": "code",
   "execution_count": 4,
   "id": "2fbda9d2-32ed-4202-8d16-bf12a8ab9c01",
   "metadata": {},
   "outputs": [
    {
     "name": "stdin",
     "output_type": "stream",
     "text": [
      "enter your marks -09\n"
     ]
    },
    {
     "name": "stdout",
     "output_type": "stream",
     "text": [
      "you will be the part of A3 batch\n"
     ]
    }
   ],
   "source": [
    "marks =int(input(\"enter your marks\"))\n",
    "if marks >=80:\n",
    "    print(\"you will be a part of A0 batch\")\n",
    "elif marks >=60 and marks<80:\n",
    "    print(\"you will be part of A1 batch\")\n",
    "elif marks >=40 and marks <60:\n",
    "    print(\"you will br the part of A2 batch\")\n",
    "    \n",
    "else :\n",
    "    print(\"you will be the part of A3 batch\")\n",
    "    "
   ]
  },
  {
   "cell_type": "code",
   "execution_count": 5,
   "id": "b3756a62-0bc0-4029-a974-a6528e1cbe05",
   "metadata": {},
   "outputs": [
    {
     "name": "stdin",
     "output_type": "stream",
     "text": [
      "enter your marks 3\n"
     ]
    },
    {
     "data": {
      "text/plain": [
       "'3'"
      ]
     },
     "execution_count": 5,
     "metadata": {},
     "output_type": "execute_result"
    }
   ],
   "source": [
    "input(\"enter your marks\")\n"
   ]
  },
  {
   "cell_type": "code",
   "execution_count": 29,
   "id": "dba62330-2278-40dd-ae1e-ea536cb46470",
   "metadata": {},
   "outputs": [
    {
     "name": "stdin",
     "output_type": "stream",
     "text": [
      "enter the price 2300\n"
     ]
    },
    {
     "name": "stdout",
     "output_type": "stream",
     "text": [
      " I will not purchase\n"
     ]
    }
   ],
   "source": [
    "price= int(input(\"enter the price\"))\n",
    "if price > 1000:\n",
    "    print(\" I will not purchase\")\n",
    "    if price>5000:\n",
    "        print (\"this is too much\")\n",
    "\n",
    "elif  price <1000:\n",
    "    print(\"i will buy \")\n",
    "elif price < 2000:\n",
    "    print(\"this is ok\")"
   ]
  },
  {
   "cell_type": "code",
   "execution_count": 44,
   "id": "27afc30b-71e5-4d0f-a00d-eecba1cbecdd",
   "metadata": {},
   "outputs": [],
   "source": [
    "l=[1,2,3,4,5,6,7,8]"
   ]
  },
  {
   "cell_type": "code",
   "execution_count": 45,
   "id": "357cc2b4-a487-411f-8e7c-00c2a09f8aca",
   "metadata": {},
   "outputs": [],
   "source": [
    "l1=[]"
   ]
  },
  {
   "cell_type": "code",
   "execution_count": 46,
   "id": "cc869ed5-c85a-4042-80b3-f92c7ad7eebe",
   "metadata": {},
   "outputs": [],
   "source": [
    "l1.append(l[0]+2)"
   ]
  },
  {
   "cell_type": "code",
   "execution_count": 38,
   "id": "f1936b5b-ba3c-48d9-974a-8b63b82c62e2",
   "metadata": {},
   "outputs": [
    {
     "data": {
      "text/plain": [
       "[3]"
      ]
     },
     "execution_count": 38,
     "metadata": {},
     "output_type": "execute_result"
    }
   ],
   "source": [
    "l1"
   ]
  },
  {
   "cell_type": "code",
   "execution_count": 40,
   "id": "44c1a97e-ab2f-4891-9279-b567c3003718",
   "metadata": {},
   "outputs": [],
   "source": [
    "l=[1,2,3,4,5,6,7,8]"
   ]
  },
  {
   "cell_type": "code",
   "execution_count": 43,
   "id": "fc7358ef-a647-4e54-b90c-9806eabffe08",
   "metadata": {},
   "outputs": [
    {
     "data": {
      "text/plain": [
       "4"
      ]
     },
     "execution_count": 43,
     "metadata": {},
     "output_type": "execute_result"
    }
   ],
   "source": [
    "l[3]"
   ]
  },
  {
   "cell_type": "code",
   "execution_count": 47,
   "id": "f8af461e-8101-4dc4-9d6c-e189e430d401",
   "metadata": {},
   "outputs": [],
   "source": [
    "l1=[13,34,43]"
   ]
  },
  {
   "cell_type": "code",
   "execution_count": 48,
   "id": "7aafb0d7-bcad-4656-9d7c-3b61c2117ccd",
   "metadata": {},
   "outputs": [
    {
     "data": {
      "text/plain": [
       "43"
      ]
     },
     "execution_count": 48,
     "metadata": {},
     "output_type": "execute_result"
    }
   ],
   "source": [
    "l1[2]"
   ]
  },
  {
   "cell_type": "code",
   "execution_count": 49,
   "id": "628e96c9-ad90-48ba-9250-a2f2003bcd44",
   "metadata": {},
   "outputs": [],
   "source": [
    "l=[1,2,3,4,5,6,7,8,9]"
   ]
  },
  {
   "cell_type": "code",
   "execution_count": 51,
   "id": "8a4d734f-6750-4c2a-8e0c-4c13cb3bb102",
   "metadata": {},
   "outputs": [
    {
     "name": "stdout",
     "output_type": "stream",
     "text": [
      "1\n",
      "2\n",
      "3\n",
      "4\n",
      "5\n",
      "6\n",
      "7\n",
      "8\n",
      "9\n"
     ]
    }
   ],
   "source": [
    "for i in l :\n",
    "    print(i)\n"
   ]
  },
  {
   "cell_type": "code",
   "execution_count": 53,
   "id": "4fdfc089-01bc-493c-9b53-7cefaa57d4c0",
   "metadata": {},
   "outputs": [
    {
     "name": "stdout",
     "output_type": "stream",
     "text": [
      "[1, 2, 3, 4, 5, 6, 7, 8, 9]\n",
      "[1, 2, 3, 4, 5, 6, 7, 8, 9]\n",
      "[1, 2, 3, 4, 5, 6, 7, 8, 9]\n",
      "[1, 2, 3, 4, 5, 6, 7, 8, 9]\n",
      "[1, 2, 3, 4, 5, 6, 7, 8, 9]\n",
      "[1, 2, 3, 4, 5, 6, 7, 8, 9]\n",
      "[1, 2, 3, 4, 5, 6, 7, 8, 9]\n",
      "[1, 2, 3, 4, 5, 6, 7, 8, 9]\n",
      "[1, 2, 3, 4, 5, 6, 7, 8, 9]\n"
     ]
    }
   ],
   "source": [
    "for i in l :\n",
    "    print(l)\n"
   ]
  },
  {
   "cell_type": "code",
   "execution_count": 58,
   "id": "4e29e086-9793-4b74-a353-19bea76d7bf0",
   "metadata": {},
   "outputs": [
    {
     "name": "stdout",
     "output_type": "stream",
     "text": [
      "2\n",
      "3\n",
      "4\n",
      "5\n",
      "6\n",
      "7\n",
      "8\n",
      "9\n",
      "10\n"
     ]
    },
    {
     "data": {
      "text/plain": [
       "[2, 3, 4, 5, 6, 7, 8, 9, 10]"
      ]
     },
     "execution_count": 58,
     "metadata": {},
     "output_type": "execute_result"
    }
   ],
   "source": [
    "l1 = []\n",
    "for i in l :\n",
    "    print(i+1)\n",
    "    l1.append(i+1)\n",
    "l1    \n"
   ]
  },
  {
   "cell_type": "code",
   "execution_count": 59,
   "id": "d09eb354-3b4d-415c-a8dd-25bba140010d",
   "metadata": {},
   "outputs": [
    {
     "data": {
      "text/plain": [
       "[2, 3, 4, 5, 6, 7, 8, 9, 10]"
      ]
     },
     "execution_count": 59,
     "metadata": {},
     "output_type": "execute_result"
    }
   ],
   "source": [
    "l1"
   ]
  },
  {
   "cell_type": "code",
   "execution_count": 60,
   "id": "ea97fdf9-38a4-4a08-b670-a676841a3f95",
   "metadata": {},
   "outputs": [],
   "source": [
    "l=[\"sudh\", \"kumar\" ,\"pwskills\", \" course\"]"
   ]
  },
  {
   "cell_type": "code",
   "execution_count": 64,
   "id": "9c705b67-7050-445c-af84-1a0799f20f9d",
   "metadata": {},
   "outputs": [
    {
     "name": "stdout",
     "output_type": "stream",
     "text": [
      "sudh\n",
      "kumar\n",
      "pwskills\n",
      " course\n"
     ]
    }
   ],
   "source": [
    "l1=[]\n",
    "for i in l:\n",
    "    print (i)\n",
    "    l1.append(i.upper())"
   ]
  },
  {
   "cell_type": "code",
   "execution_count": 65,
   "id": "af187b0e-2d40-4bf7-a901-c3b61baecad5",
   "metadata": {},
   "outputs": [
    {
     "data": {
      "text/plain": [
       "['SUDH', 'KUMAR', 'PWSKILLS', ' COURSE']"
      ]
     },
     "execution_count": 65,
     "metadata": {},
     "output_type": "execute_result"
    }
   ],
   "source": [
    "l1"
   ]
  },
  {
   "cell_type": "code",
   "execution_count": 77,
   "id": "5dc66738-0ec1-4599-8cde-93f6e613ffcc",
   "metadata": {},
   "outputs": [],
   "source": [
    "l=[ 1,2,3,4,4,\"sudh\" ,\"kumar\",324,34.456,\"abc\"]"
   ]
  },
  {
   "cell_type": "code",
   "execution_count": 82,
   "id": "05262c13-27b9-4fd3-91ef-d81f86017339",
   "metadata": {},
   "outputs": [
    {
     "ename": "SyntaxError",
     "evalue": "invalid syntax (2757252105.py, line 6)",
     "output_type": "error",
     "traceback": [
      "\u001b[0;36m  Cell \u001b[0;32mIn[82], line 6\u001b[0;36m\u001b[0m\n\u001b[0;31m    else :\u001b[0m\n\u001b[0m    ^\u001b[0m\n\u001b[0;31mSyntaxError\u001b[0m\u001b[0;31m:\u001b[0m invalid syntax\n"
     ]
    }
   ],
   "source": [
    "l1_num = []\n",
    "l2_str = []\n",
    "for i in l:\n",
    "    if type (i) == int or type(i) == flot:\n",
    "        l1_num.append(i)\n",
    "        else :\n",
    "            l2_str.append(i)"
   ]
  },
  {
   "cell_type": "code",
   "execution_count": 83,
   "id": "aaec643b-5168-406d-bdb5-43028afbe286",
   "metadata": {},
   "outputs": [
    {
     "ename": "NameError",
     "evalue": "name 'l1_num' is not defined",
     "output_type": "error",
     "traceback": [
      "\u001b[0;31m---------------------------------------------------------------------------\u001b[0m",
      "\u001b[0;31mNameError\u001b[0m                                 Traceback (most recent call last)",
      "Cell \u001b[0;32mIn[83], line 1\u001b[0m\n\u001b[0;32m----> 1\u001b[0m \u001b[43ml1_num\u001b[49m\n",
      "\u001b[0;31mNameError\u001b[0m: name 'l1_num' is not defined"
     ]
    }
   ],
   "source": [
    "l1_num"
   ]
  },
  {
   "cell_type": "code",
   "execution_count": null,
   "id": "3c78e18a-bf5a-4012-860f-cf3ac965a1a5",
   "metadata": {},
   "outputs": [],
   "source": []
  }
 ],
 "metadata": {
  "kernelspec": {
   "display_name": "Python 3 (ipykernel)",
   "language": "python",
   "name": "python3"
  },
  "language_info": {
   "codemirror_mode": {
    "name": "ipython",
    "version": 3
   },
   "file_extension": ".py",
   "mimetype": "text/x-python",
   "name": "python",
   "nbconvert_exporter": "python",
   "pygments_lexer": "ipython3",
   "version": "3.10.8"
  }
 },
 "nbformat": 4,
 "nbformat_minor": 5
}
